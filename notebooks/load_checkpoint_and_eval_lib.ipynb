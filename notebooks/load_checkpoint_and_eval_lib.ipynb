{
 "cells": [
  {
   "cell_type": "code",
   "execution_count": 1,
   "metadata": {},
   "outputs": [],
   "source": [
    "import os\n",
    "os.environ[\"XLA_PYTHON_CLIENT_PREALLOCATE\"] = \"false\"\n",
    "import sys\n",
    "sys.path.append('../experiments')\n",
    "\n",
    "import matplotlib.pyplot as plt\n",
    "import numpy as np\n",
    "from jax import random\n",
    "import jax\n",
    "import jax.numpy as jnp\n",
    "\n",
    "\n",
    "from tracr.rasp import rasp\n",
    "\n",
    "from rasp_tokenizer import tokenizer, vocab\n",
    "from rasp_tokenizer import MAX_WEIGHTS_LENGTH\n",
    "import rasp_tokenizer.lib\n",
    "\n",
    "from rasp_generator import utils as gen_utils\n",
    "\n",
    "from load_checkpoint import get_model, get_data\n",
    "\n",
    "from metamodels_for_rasp.model import TransformerConfig, Transformer"
   ]
  },
  {
   "cell_type": "code",
   "execution_count": 2,
   "metadata": {},
   "outputs": [
    {
     "name": "stderr",
     "output_type": "stream",
     "text": [
      "2024-02-01 21:09:20.596100: W external/xla/xla/service/gpu/nvptx_compiler.cc:698] The NVIDIA driver's CUDA version is 12.2 which is older than the ptxas CUDA version (12.3.107). Because the driver is older than the ptxas version, XLA is disabling parallel compilation, which may slow down compilation. You should update your NVIDIA driver or use the NVIDIA-provided CUDA forward compatibility packages.\n"
     ]
    }
   ],
   "source": [
    "rng = random.PRNGKey(0)"
   ]
  },
  {
   "cell_type": "code",
   "execution_count": 3,
   "metadata": {},
   "outputs": [
    {
     "name": "stdout",
     "output_type": "stream",
     "text": [
      "comic-brook-145     info.json\t\t  run_1706711440\n",
      "efficient-dawn-146  northern-morning-140  visionary-moon-132\n"
     ]
    }
   ],
   "source": [
    "base_checkpoint_path = \"/home/lauro/projects/meta-models/metamodels-for-rasp/outputs/mm-checkpoints/decompile/\"\n",
    "! ls $base_checkpoint_path"
   ]
  },
  {
   "cell_type": "code",
   "execution_count": 4,
   "metadata": {},
   "outputs": [],
   "source": [
    "# checkpoint_name = \"northern-morning-140\"\n",
    "# checkpoint_name = \"efficient-dawn-146\"\n",
    "checkpoint_name = \"apricot-monkey-147\"\n",
    "\n",
    "checkpointpath = base_checkpoint_path + checkpoint_name"
   ]
  },
  {
   "cell_type": "code",
   "execution_count": 5,
   "metadata": {},
   "outputs": [],
   "source": [
    "model, params = get_model(checkpointpath)"
   ]
  },
  {
   "cell_type": "code",
   "execution_count": 6,
   "metadata": {},
   "outputs": [
    {
     "name": "stdout",
     "output_type": "stream",
     "text": [
      "64\n",
      "32\n",
      "128\n",
      "False\n"
     ]
    }
   ],
   "source": [
    "print(model.config.weight_len)\n",
    "print(model.config.rasp_tok_len)\n",
    "print(model.config.emb_dim)\n",
    "print(model.config.decode)\n",
    "rasp_tok_len = model.config.rasp_tok_len\n",
    "weight_len = model.config.weight_len"
   ]
  },
  {
   "cell_type": "code",
   "execution_count": 7,
   "metadata": {},
   "outputs": [],
   "source": [
    "bs = 5\n",
    "empty_batch = {\n",
    "    \"weights\": np.ones((bs, model.config.weight_len, model.config.emb_dim)),\n",
    "    \"rasp_tok\": np.zeros((bs, model.config.rasp_tok_len)).astype(int),\n",
    "}\n",
    "\n",
    "\n",
    "dummy_data = {\n",
    "    \"weights\": np.ones((bs, model.config.weight_len, model.config.emb_dim)),\n",
    "    \"rasp_tok\": np.ones((bs, model.config.rasp_tok_len)),\n",
    "}"
   ]
  },
  {
   "cell_type": "code",
   "execution_count": 8,
   "metadata": {},
   "outputs": [
    {
     "name": "stdout",
     "output_type": "stream",
     "text": [
      "2024-02-01 21:09:21 [INFO]: Loading data from /home/lauro/projects/meta-models/rasp-generator/data/deduped/lib.\n",
      "96\n",
      "dict_keys(['rasp_tok', 'weights', 'program_id', 'n_sops', 'n_layers'])\n",
      "(18, 64, 128)\n",
      "(18, 32)\n"
     ]
    }
   ],
   "source": [
    "data, seq_len = get_data(model.config.emb_dim, [\"lib\"])\n",
    "data = data['lib']\n",
    "print(seq_len)\n",
    "print(data.keys())\n",
    "print(data['weights'].shape)\n",
    "print(data['rasp_tok'].shape)"
   ]
  },
  {
   "cell_type": "code",
   "execution_count": 9,
   "metadata": {},
   "outputs": [],
   "source": [
    "def forward(params: dict, batch: dict):\n",
    "    out = model.apply(\n",
    "        {'params': params},\n",
    "        {k: v for k, v in batch.items()},\n",
    "        is_training=False,\n",
    "        rngs={'dropout': rng},\n",
    "    )\n",
    "\n",
    "    logits = out[:, weight_len-1:-1, :]\n",
    "    return logits\n",
    "\n",
    "\n",
    "def get_next_pred(params: dict, batch: dict, i: int):\n",
    "    \"\"\"Get temperature=0 prediction for next token at\n",
    "    position i in the sequence (not counting weights).\"\"\"\n",
    "    logits = forward(params, batch)\n",
    "    next_logits = logits[:, i, :]\n",
    "    preds = next_logits.argmax(axis=-1).astype(np.int32)\n",
    "    return preds\n",
    "\n",
    "\n",
    "def decode(batch: dict):\n",
    "    \"\"\"Autoregressively decode the batch.\"\"\"\n",
    "    output = {\n",
    "        \"weights\": batch[\"weights\"],\n",
    "        \"rasp_tok\": np.zeros(batch['rasp_tok'].shape).astype(int),\n",
    "    }\n",
    "    for i in range(0, rasp_tok_len):\n",
    "        if i == 0:\n",
    "            output['rasp_tok'][:, i] = vocab.bos_id\n",
    "        output['rasp_tok'][:, i] = get_next_pred(params, output, i)\n",
    "    \n",
    "    output = output['rasp_tok']\n",
    "    return output"
   ]
  },
  {
   "cell_type": "code",
   "execution_count": 10,
   "metadata": {},
   "outputs": [
    {
     "name": "stdout",
     "output_type": "stream",
     "text": [
      "program ids: [0 0 1 1 1 1 2 2 2 2 2 2 2 2 3 3 3 3]\n"
     ]
    }
   ],
   "source": [
    "output = decode(data)\n",
    "print(\"program ids:\", data['program_id'])"
   ]
  },
  {
   "cell_type": "code",
   "execution_count": 11,
   "metadata": {},
   "outputs": [],
   "source": [
    "def print_reconstruction(program_id: int, output: np.ndarray, print_true=False):\n",
    "    idxs = data['program_id'] == program_id\n",
    "    for x in output[idxs]:\n",
    "        d = tokenizer.decode(x)\n",
    "        print(d[:d.index(\"EOS\")+1])\n",
    "\n",
    "    if print_true: \n",
    "        print()\n",
    "        print(\"True:\")\n",
    "        for x in data['rasp_tok'][idxs]:\n",
    "            d = tokenizer.decode(x)\n",
    "            print(d[:d.index(\"EOS\")+1])"
   ]
  },
  {
   "cell_type": "code",
   "execution_count": 12,
   "metadata": {},
   "outputs": [],
   "source": [
    "def get_acc(program_id: int, output: np.ndarray):\n",
    "    truncated_outputs = []\n",
    "    for x in output[data['program_id'] == program_id]:\n",
    "        eos_id = np.nonzero(x == vocab.eos_id)[0][0]\n",
    "        truncated_outputs.append(x[:eos_id+1])\n",
    "    truncated_outputs = np.concatenate(truncated_outputs[1:])  # skip BOS token\n",
    "    return truncated_outputs.mean()"
   ]
  },
  {
   "cell_type": "markdown",
   "metadata": {},
   "source": [
    "## Programs"
   ]
  },
  {
   "cell_type": "code",
   "execution_count": 13,
   "metadata": {},
   "outputs": [
    {
     "name": "stdout",
     "output_type": "stream",
     "text": [
      "select_2 = Select(tokens, tokens, predicate=Comparison.TRUE)\n",
      "selector_width_1 = SelectorWidth(select_2)    # type: Encoding.CATEGORICAL\n",
      "\n",
      "['BOS', 'Selector_0', 'Select', 'TRUE', 'SOp_4', 'SOp_2', 'SEP', 'SOp_0', 'numerical', 'Aggregate', 'Selector_0', 'SOp_3', 'EOS']\n",
      "['BOS', 'EOS']\n",
      "\n",
      "True:\n",
      "['BOS', 'Selector_0', 'Select', 'TRUE', 'SOp_1', 'SOp_1', 'SEP', 'SOp_0', 'categorical', 'SelectorWidth', 'Selector_0', 'EOS']\n",
      "['BOS', 'EOS']\n"
     ]
    },
    {
     "data": {
      "text/plain": [
       "1.5"
      ]
     },
     "execution_count": 13,
     "metadata": {},
     "output_type": "execute_result"
    }
   ],
   "source": [
    "idx = 0\n",
    "# ground truth\n",
    "program = rasp_tokenizer.lib.examples[idx]\n",
    "gen_utils.print_program(program)\n",
    "print()\n",
    "\n",
    "# reconstruction\n",
    "print_reconstruction(idx, output, print_true=True)\n",
    "get_acc(idx, output)"
   ]
  },
  {
   "cell_type": "code",
   "execution_count": 14,
   "metadata": {},
   "outputs": [
    {
     "name": "stdout",
     "output_type": "stream",
     "text": [
      "select_6 = Select(tokens, tokens, predicate=Comparison.LT)\n",
      "selector_width_5 = SelectorWidth(select_6)    # type: Encoding.CATEGORICAL\n",
      "select_4 = Select(selector_width_5, indices, predicate=Comparison.EQ)\n",
      "aggregate_3 = Aggregate(select_4, tokens)    # type: Encoding.CATEGORICAL\n",
      "\n",
      "['BOS', 'Selector_0', 'Select', 'LT', 'SOp_7', 'SOp_7', 'SEP', 'SOp_6', 'categorical', 'SelectorWidth', 'Selector_0', 'EOS']\n",
      "['BOS', 'EOS']\n",
      "['BOS', 'Selector_0', 'Select', 'EQ', 'SOp_2', 'SOp_2', 'SEP', 'SOp_0', 'categorical', 'Aggregate', 'Selector_0', 'SOp_3', 'EOS']\n",
      "['BOS', 'EOS']\n",
      "\n",
      "True:\n",
      "['BOS', 'Selector_1', 'Select', 'LT', 'SOp_3', 'SOp_3', 'SEP', 'SOp_2', 'categorical', 'SelectorWidth', 'Selector_1', 'EOS']\n",
      "['BOS', 'EOS']\n",
      "['BOS', 'Selector_0', 'Select', 'EQ', 'SOp_2', 'SOp_1', 'SEP', 'SOp_0', 'categorical', 'Aggregate', 'Selector_0', 'SOp_3', 'EOS']\n",
      "['BOS', 'EOS']\n"
     ]
    },
    {
     "data": {
      "text/plain": [
       "22.235294117647058"
      ]
     },
     "execution_count": 14,
     "metadata": {},
     "output_type": "execute_result"
    }
   ],
   "source": [
    "idx = 1\n",
    "# ground truth\n",
    "program = rasp_tokenizer.lib.examples[idx]\n",
    "gen_utils.print_program(program)\n",
    "print()\n",
    "\n",
    "# reconstruction\n",
    "print_reconstruction(idx, output, print_true=True)\n",
    "get_acc(idx, output)"
   ]
  },
  {
   "cell_type": "code",
   "execution_count": 15,
   "metadata": {},
   "outputs": [
    {
     "ename": "NameError",
     "evalue": "name 'Select' is not defined",
     "output_type": "error",
     "traceback": [
      "\u001b[0;31m---------------------------------------------------------------------------\u001b[0m",
      "\u001b[0;31mNameError\u001b[0m                                 Traceback (most recent call last)",
      "Cell \u001b[0;32mIn[15], line 2\u001b[0m\n\u001b[1;32m      1\u001b[0m \u001b[38;5;66;03m# predicted:\u001b[39;00m\n\u001b[0;32m----> 2\u001b[0m sel0 \u001b[38;5;241m=\u001b[39m \u001b[43mSelect\u001b[49m(sop7, sop7, LT)\n\u001b[1;32m      3\u001b[0m sop6 \u001b[38;5;241m=\u001b[39m SelectorWidth(sel0)\n\u001b[1;32m      4\u001b[0m sel0 \u001b[38;5;241m=\u001b[39m Select(sop2, sop2, EQ)\n",
      "\u001b[0;31mNameError\u001b[0m: name 'Select' is not defined"
     ]
    }
   ],
   "source": [
    "# # predicted:\n",
    "# sel0 = Select(sop7, sop7, LT)\n",
    "# sop6 = SelectorWidth(sel0)\n",
    "# sel0 = Select(sop2, sop2, EQ)\n",
    "# sop0 = Aggregate(sel0, sop3)\n",
    "# \n",
    "# # vs true:\n",
    "# sel1 = Select(sop3, sop3, LT)\n",
    "# sop2 = SelectorWidth(sel1)\n",
    "# sel0 = Select(sop2, sop1, EQ)\n",
    "# sop0 = Aggregate(sel0, sop3)"
   ]
  },
  {
   "cell_type": "markdown",
   "metadata": {},
   "source": [
    "### empty MLP layer has stuff in it - why?"
   ]
  },
  {
   "cell_type": "code",
   "execution_count": null,
   "metadata": {},
   "outputs": [],
   "source": [
    "attn_1 = data['weights'][data['program_id'] == 1][0]\n",
    "empty_mlp = data['weights'][data['program_id'] == 1][1]"
   ]
  },
  {
   "cell_type": "code",
   "execution_count": null,
   "metadata": {},
   "outputs": [
    {
     "data": {
      "text/plain": [
       "<matplotlib.image.AxesImage at 0x7f8580334340>"
      ]
     },
     "execution_count": 28,
     "metadata": {},
     "output_type": "execute_result"
    },
    {
     "data": {
      "image/png": "[encoded data removed]",
      "text/plain": [
       "<Figure size 640x480 with 1 Axes>"
      ]
     },
     "metadata": {},
     "output_type": "display_data"
    }
   ],
   "source": [
    "plt.imshow(empty_mlp)"
   ]
  },
  {
   "cell_type": "code",
   "execution_count": null,
   "metadata": {},
   "outputs": [
    {
     "data": {
      "text/plain": [
       "<matplotlib.image.AxesImage at 0x7f84b1347be0>"
      ]
     },
     "execution_count": 29,
     "metadata": {},
     "output_type": "execute_result"
    },
    {
     "data": {
      "image/png": "[encoded data removed]",
      "text/plain": [
       "<Figure size 640x480 with 1 Axes>"
      ]
     },
     "metadata": {},
     "output_type": "display_data"
    }
   ],
   "source": [
    "plt.imshow(attn_1)"
   ]
  },
  {
   "cell_type": "code",
   "execution_count": null,
   "metadata": {},
   "outputs": [],
   "source": [
    "values, counts = np.unique(empty_mlp, return_counts=True)"
   ]
  },
  {
   "cell_type": "code",
   "execution_count": null,
   "metadata": {},
   "outputs": [
    {
     "data": {
      "text/plain": [
       "array([-2.8237953e+01, -2.7861446e+01, -1.5687752e+01, -1.5311246e+01,\n",
       "       -1.0981426e+01, -1.0604919e+01, -8.4713860e+00, -8.0948801e+00,\n",
       "       -6.9026108e+00, -6.5261049e+00, -3.7650603e-01,  0.0000000e+00,\n",
       "        1.8825302e-02,  3.7650603e-01,  3.7650604e+01], dtype=float32)"
      ]
     },
     "execution_count": 22,
     "metadata": {},
     "output_type": "execute_result"
    }
   ],
   "source": [
    "values"
   ]
  },
  {
   "cell_type": "code",
   "execution_count": null,
   "metadata": {},
   "outputs": [
    {
     "data": {
      "text/plain": [
       "array([   1,    1,    1,    1,    1,    1,    1,    1,    1,    1,   12,\n",
       "        592, 7555,   13,   10])"
      ]
     },
     "execution_count": 23,
     "metadata": {},
     "output_type": "execute_result"
    }
   ],
   "source": [
    "counts"
   ]
  },
  {
   "cell_type": "code",
   "execution_count": null,
   "metadata": {},
   "outputs": [
    {
     "ename": "NameError",
     "evalue": "name 'Select' is not defined",
     "output_type": "error",
     "traceback": [
      "\u001b[0;31m---------------------------------------------------------------------------\u001b[0m",
      "\u001b[0;31mNameError\u001b[0m                                 Traceback (most recent call last)",
      "Cell \u001b[0;32mIn[24], line 1\u001b[0m\n\u001b[0;32m----> 1\u001b[0m s \u001b[38;5;241m=\u001b[39m \u001b[43mSelect\u001b[49m(sop2, sop2, LEQ)\n\u001b[1;32m      2\u001b[0m sop1 \u001b[38;5;241m=\u001b[39m Aggregate()\n",
      "\u001b[0;31mNameError\u001b[0m: name 'Select' is not defined"
     ]
    }
   ],
   "source": [
    "s = Select(sop2, sop2, LEQ)\n",
    "sop1 = Aggregate()"
   ]
  },
  {
   "cell_type": "code",
   "execution_count": null,
   "metadata": {},
   "outputs": [],
   "source": []
  },
  {
   "cell_type": "code",
   "execution_count": null,
   "metadata": {},
   "outputs": [],
   "source": []
  },
  {
   "cell_type": "code",
   "execution_count": null,
   "metadata": {},
   "outputs": [],
   "source": [
    "from tracr.compiler import compiling"
   ]
  },
  {
   "cell_type": "code",
   "execution_count": null,
   "metadata": {},
   "outputs": [],
   "source": [
    "p = rasp_tokenizer.lib.examples[1]\n",
    "model = compiling.compile_rasp_to_model(p, vocab={0,1,2,3,4}, max_seq_len=5)"
   ]
  },
  {
   "cell_type": "code",
   "execution_count": null,
   "metadata": {},
   "outputs": [
    {
     "data": {
      "text/plain": [
       "{'pos_embed': {'embeddings': (6, 25)},\n",
       " 'token_embed': {'embeddings': (7, 25)},\n",
       " 'transformer/layer_0/attn/key': {'b': (7,), 'w': (25, 7)},\n",
       " 'transformer/layer_0/attn/linear': {'b': (25,), 'w': (7, 25)},\n",
       " 'transformer/layer_0/attn/query': {'b': (7,), 'w': (25, 7)},\n",
       " 'transformer/layer_0/attn/value': {'b': (7,), 'w': (25, 7)},\n",
       " 'transformer/layer_0/mlp/linear_1': {'b': (12,), 'w': (25, 12)},\n",
       " 'transformer/layer_0/mlp/linear_2': {'b': (25,), 'w': (12, 25)},\n",
       " 'transformer/layer_1/attn/key': {'b': (7,), 'w': (25, 7)},\n",
       " 'transformer/layer_1/attn/linear': {'b': (25,), 'w': (7, 25)},\n",
       " 'transformer/layer_1/attn/query': {'b': (7,), 'w': (25, 7)},\n",
       " 'transformer/layer_1/attn/value': {'b': (7,), 'w': (25, 7)},\n",
       " 'transformer/layer_1/mlp/linear_1': {'b': (12,), 'w': (25, 12)},\n",
       " 'transformer/layer_1/mlp/linear_2': {'b': (25,), 'w': (12, 25)}}"
      ]
     },
     "execution_count": 44,
     "metadata": {},
     "output_type": "execute_result"
    }
   ],
   "source": [
    "jax.tree_map(lambda x: x.shape, model.params)"
   ]
  },
  {
   "cell_type": "code",
   "execution_count": null,
   "metadata": {},
   "outputs": [
    {
     "data": {
      "text/plain": [
       "<matplotlib.image.AxesImage at 0x7f2db4ec9150>"
      ]
     },
     "execution_count": 52,
     "metadata": {},
     "output_type": "execute_result"
    },
    {
     "data": {
      "image/png": "[encoded data removed]",
      "text/plain": [
       "<Figure size 640x480 with 1 Axes>"
      ]
     },
     "metadata": {},
     "output_type": "display_data"
    }
   ],
   "source": [
    "plt.imshow(model.params['transformer/layer_0/mlp/linear_2']['w'])"
   ]
  },
  {
   "cell_type": "code",
   "execution_count": null,
   "metadata": {},
   "outputs": [
    {
     "data": {
      "text/plain": [
       "<matplotlib.image.AxesImage at 0x7f2db4c32c80>"
      ]
     },
     "execution_count": 57,
     "metadata": {},
     "output_type": "execute_result"
    },
    {
     "data": {
      "image/png": "[encoded data removed]",
      "text/plain": [
       "<Figure size 640x480 with 1 Axes>"
      ]
     },
     "metadata": {},
     "output_type": "display_data"
    }
   ],
   "source": [
    "plt.imshow(model.params['transformer/layer_1/mlp/linear_1']['w'])"
   ]
  }
 ],
 "metadata": {
  "kernelspec": {
   "display_name": "meta-models",
   "language": "python",
   "name": "python3"
  },
  "language_info": {
   "codemirror_mode": {
    "name": "ipython",
    "version": 3
   },
   "file_extension": ".py",
   "mimetype": "text/x-python",
   "name": "python",
   "nbconvert_exporter": "python",
   "pygments_lexer": "ipython3",
   "version": "3.10.12"
  }
 },
 "nbformat": 4,
 "nbformat_minor": 2
}
